{
  "nbformat": 4,
  "nbformat_minor": 0,
  "metadata": {
    "colab": {
      "provenance": [],
      "authorship_tag": "ABX9TyO8WTx8A5U1v9beIxqTW5NK",
      "include_colab_link": true
    },
    "kernelspec": {
      "name": "python3",
      "display_name": "Python 3"
    },
    "language_info": {
      "name": "python"
    }
  },
  "cells": [
    {
      "cell_type": "markdown",
      "metadata": {
        "id": "view-in-github",
        "colab_type": "text"
      },
      "source": [
        "<a href=\"https://colab.research.google.com/github/Geunyeong-Kwon/Stdy-record/blob/main/1%EC%9E%A5.ipynb\" target=\"_parent\"><img src=\"https://colab.research.google.com/assets/colab-badge.svg\" alt=\"Open In Colab\"/></a>"
      ]
    },
    {
      "cell_type": "markdown",
      "source": [
        "#실습 환경 세팅\n",
        "- 웹사이트에서 바로 코딩: https://www.onlinegdb.com/\n",
        "  ▶우측 Language 선택에서 C++ 선택 -> 코딩 후 run 버튼 누르면 실행됨, 한글 입력 가능하지만 해외 사이트라서 가끔 한글 깨짐(기능상 문제는 없음)\n",
        "- Code::Blocks: 우분투에서 C++ 프로그램 저장할 폴더 생성 ▶우측 마우스 -> 새 폴더 -> 폴더이름 cpp(폴더 이름 영어로) ▶우분투 열어서 sudo apt install gcc, sudo apt install g++, sudo apt install condeblocks 설치\n",
        "- VS Code, VS 사용"
      ],
      "metadata": {
        "id": "x9ynFUwwe9MX"
      }
    }
  ]
}