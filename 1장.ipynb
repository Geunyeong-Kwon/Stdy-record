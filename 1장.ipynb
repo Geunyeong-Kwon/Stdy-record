{
  "nbformat": 4,
  "nbformat_minor": 0,
  "metadata": {
    "colab": {
      "provenance": [],
      "authorship_tag": "ABX9TyPgQpA8VhMeI3+pRWSDdb1o",
      "include_colab_link": true
    },
    "kernelspec": {
      "name": "python3",
      "display_name": "Python 3"
    },
    "language_info": {
      "name": "python"
    }
  },
  "cells": [
    {
      "cell_type": "markdown",
      "metadata": {
        "id": "view-in-github",
        "colab_type": "text"
      },
      "source": [
        "<a href=\"https://colab.research.google.com/github/Geunyeong-Kwon/Stdy-record/blob/main/1%EC%9E%A5.ipynb\" target=\"_parent\"><img src=\"https://colab.research.google.com/assets/colab-badge.svg\" alt=\"Open In Colab\"/></a>"
      ]
    },
    {
      "cell_type": "markdown",
      "source": [
        "#실습 환경 세팅\n",
        "- 웹사이트에서 바로 코딩: https://www.onlinegdb.com/\n",
        "  ▶우측 Language 선택에서 C++ 선택 -> 코딩 후 run 버튼 누르면 실행됨, 한글 입력 가능하지만 해외 사이트라서 가끔 한글 깨짐(기능상 문제는 없음)\n",
        "- Code::Blocks: 우분투에서 C++ 프로그램 저장할 폴더 생성 ▶우측 마우스 -> 새 폴더 -> 폴더이름 cpp(폴더 이름 영어로) ▶우분투 열어서 sudo apt install gcc, sudo apt install g++, sudo apt install condeblocks 설치\n",
        "- VS Code, VS 사용"
      ],
      "metadata": {
        "id": "x9ynFUwwe9MX"
      }
    },
    {
      "cell_type": "markdown",
      "source": [
        "#C++ 특징\n",
        "- C언어와의 호환성: C언어의 문법 체계 계승\n",
        "- 객체 지향 개념 도입 :📌캡슐화, 상속(다중 상속, 주도권은 자식에게), 다형성(이름이 같으나 역할은 다름) ==> 소프트웨어의 재사용을 통해 생산성 향상, 복잡하고 큰 규모의 소프트웨어의 작성, 관리, 유지보수 용이\n",
        "- C언어의 기능 추가"
      ],
      "metadata": {
        "id": "2mF597rRjJ5_"
      }
    },
    {
      "cell_type": "markdown",
      "source": [
        "#C언어에 추가한 기능\n",
        "- 함수 중복(function overloading): 매개 변수의 개수나 타입이 다른 동일한 이름의 함수들 선언\n",
        "- 디폴트 매개 변수(default parameter): 매개 변수에 디폴트 값이 전달되도록 함수 선언언\n",
        "- 참조와 참조 변수(reference): 하나의 변수에 별명을 사용하는 참조 변수 도입\n",
        "- 참조에 의한 호출(call-by-refernce): 함수 호출 시 참조 전달\n",
        "- new / delete 연산자: 동적 메모리 할당/해제를 위해 new와 delete 연산자 도입\n",
        "- 연산자 재정의: 기존 C++ 연산자에 새로운 연산 정의\n",
        "- 제네릭 함수와 클래스: 데이터 타입에 의존하지 않고 일반화시킨 함수나 클래스 작성 가능\n",
        "\n"
      ],
      "metadata": {
        "id": "y-FFi7R8kXyY"
      }
    }
  ]
}