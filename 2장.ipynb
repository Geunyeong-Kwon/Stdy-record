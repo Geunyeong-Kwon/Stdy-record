{
  "nbformat": 4,
  "nbformat_minor": 0,
  "metadata": {
    "colab": {
      "provenance": [],
      "authorship_tag": "ABX9TyMFjBlMx0kja4rH0W/NBMA1",
      "include_colab_link": true
    },
    "kernelspec": {
      "name": "python3",
      "display_name": "Python 3"
    },
    "language_info": {
      "name": "python"
    }
  },
  "cells": [
    {
      "cell_type": "markdown",
      "metadata": {
        "id": "view-in-github",
        "colab_type": "text"
      },
      "source": [
        "<a href=\"https://colab.research.google.com/github/Geunyeong-Kwon/Study-record/blob/main/2%EC%9E%A5.ipynb\" target=\"_parent\"><img src=\"https://colab.research.google.com/assets/colab-badge.svg\" alt=\"Open In Colab\"/></a>"
      ]
    },
    {
      "cell_type": "markdown",
      "source": [
        "#⭐#include에서 < > 와 \" \"의 차이\n",
        "- ✋#include<헤더파일> : '헤더 파일'을 찾는 위치 -> 컴파일러가 설치된 폴더에서 찾으라는 지시, ex) #include <iostream> 은 iostream 파일을 컴파일러가 설치된 폴더에서 찾도록 지시\n",
        " ▶헤더 파일은 사용자가 만든 것이 아니라 제공하는 것, .h 붙이지 않음음\n",
        "\n",
        "- ✋#include \"헤더파일\" : '헤더 파일'을 찾는 위치 -> 개발자의 프로젝트 폴더나 개발자가 컴파일 옵션으로 지정한 include 폴더에서 찾도록 지시(특별히 지정 안하면 우리가 만든 헤더파일은 보통 소스랑 같은 폴더에 위치)\n",
        "▶헤더 파일은 사용자가 만든 것(소스와 같은 폴더에서 만듬, .h 붙임)"
      ],
      "metadata": {
        "id": "YLARnCOzyCU2"
      }
    },
    {
      "cell_type": "markdown",
      "source": [
        "#C++과 C언어\n",
        "- 주석은 C, C++, Java 동일\n",
        "- C++은 확장자 .h가 없음\n",
        "- C++ 도 C처럼 main만 실행\n",
        "- void main() 해도 되나 비표준임. int main()이 표준.\n",
        "- 프로젝트에 main 하나. 즉, 실행 파일 하나에 main 함수는 하나\n",
        "- ⭐main 함수는 중복 불가능, main함수는 함수 중복에서 예외(Java에서는 가능)\n",
        "- main함수에서 리턴 타입이 int 이지만 return 0은 생략 가능(main 함수만O, 다른 함수는 X)\n"
      ],
      "metadata": {
        "id": "20rpXyJb3TrN"
      }
    },
    {
      "cell_type": "markdown",
      "source": [
        "#▶ #include < iostream >\n",
        "- 전처리기(Preprocessor)에게 내리는 지시: 헤더 파일을 컴파일 전에 소스에 확장하도록 지시\n",
        "- < iostream > 헤더파일: 표준 입출력을 위한 클래스와 객체, 변수 등이 선언됨.\n",
        " ex) cout, cin 등\n",
        "  \n",
        "\n"
      ],
      "metadata": {
        "id": "eg7dpOEQ4i3J"
      }
    },
    {
      "cell_type": "markdown",
      "source": [
        "#화면 출력\n",
        "- cout 객체: 스크린 출력 장치에 연결된 표준 C++ 출력 스트림 객체\n",
        "- << 연산자: 스트림 삽입 연산자, 원래는 비트 shift 연산자, 스트림 삽입 연산자로 재정의됨(다형성), 오른쪽 피연산자를 왼쪽 스트림 객체에 삽입, cout 객체에 연결된 화면에 출력\n",
        "- 여러개 가능 ex) cout << \"Hello\\n\" << \"첫 번째 맛보기입니다.\" << endl;\n"
      ],
      "metadata": {
        "id": "gBxy7URx6Pbg"
      }
    },
    {
      "cell_type": "markdown",
      "source": [],
      "metadata": {
        "id": "Lfob--VS64dH"
      }
    },
    {
      "cell_type": "markdown",
      "source": [
        "#<< 연산자 활용\n",
        "- 문자열 및 기본 타입의 데이타 출력: bool, char, short, int, long, float, double 타입 값 ㅜㄹ력\n",
        "- 연산식 뿐만 아니라 함수 호출도 가능\n",
        "- 다음 줄로 넘어가기: '\\n' 혹은 \"\\n\" 혹은 endl(endl은 개행 외에도 출력 버퍼 지워줌)"
      ],
      "metadata": {
        "id": "wzfX0gbO6-jF"
      }
    },
    {
      "cell_type": "markdown",
      "source": [
        "#namespace 개념\n",
        "- identifier 충돌:"
      ],
      "metadata": {
        "id": "THKd8rpS3UlR"
      }
    }
  ]
}